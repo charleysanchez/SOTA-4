{
 "cells": [
  {
   "cell_type": "markdown",
   "metadata": {
    "id": "IvxJOJu4XUIW"
   },
   "source": [
    "### Step 1: Mount the Google Drive\n",
    "\n",
    "Remember to use GPU runtime before mounting your Google Drive. (Runtime --> Change runtime type)."
   ]
  },
  {
   "cell_type": "code",
   "execution_count": null,
   "metadata": {
    "id": "SCSU4HrvkVDq"
   },
   "outputs": [],
   "source": [
    "from google.colab import drive\n",
    "drive.mount('/content/drive')"
   ]
  },
  {
   "cell_type": "markdown",
   "metadata": {
    "id": "FyoSL1U8Xbjh"
   },
   "source": [
    "### Step 2: Open the project directory\n",
    "\n",
    "Replace `Your_Dir` with your own path."
   ]
  },
  {
   "cell_type": "code",
   "execution_count": null,
   "metadata": {
    "id": "-gfQ17SmkfOK"
   },
   "outputs": [],
   "source": [
    "cd Your_Dir/emg2qwerty"
   ]
  },
  {
   "cell_type": "markdown",
   "metadata": {
    "id": "eTzYfAOEYN4C"
   },
   "source": [
    "### Step 3: Install required packages\n",
    "\n",
    "After installing them, Colab will require you to restart the session."
   ]
  },
  {
   "cell_type": "code",
   "execution_count": null,
   "metadata": {
    "id": "HFFKvhs4tAp5"
   },
   "outputs": [],
   "source": [
    "!pip install -r requirements.txt"
   ]
  },
  {
   "cell_type": "markdown",
   "metadata": {
    "id": "nSoRzGXCfUtz"
   },
   "source": [
    "### Step 4: Start your experiments!\n",
    "\n",
    "- Remember to download and copy the dataset to this directory: `Your_Dir/emg2qwerty/data`.\n",
    "- You may now start your experiments with any scripts! Below are examples of single-user training and testing (greedy decoding).\n",
    "- **There are two ways to track the logs:**\n",
    "  - 1. Keep `--multirun`, and the logs will not be printed here, but they will be saved in the folder `logs`, e.g., `logs/2025-02-09/18-24-15/submitit_logs/`.\n",
    "  - 2. Comment out `--multirun` and the logs will be printed in this notebook, but they will not be saved."
   ]
  },
  {
   "cell_type": "markdown",
   "metadata": {
    "id": "IVuSn4rXhLJa"
   },
   "source": [
    "#### Training\n",
    "\n",
    "- The checkpoints are saved in the folder `logs`, e.g., `logs/2025-02-09/18-24-15/checkpoints/`."
   ]
  },
  {
   "cell_type": "code",
   "execution_count": null,
   "metadata": {
    "id": "n84M6KLmkp2i"
   },
   "outputs": [],
   "source": [
    "# Single-user training\n",
    "!python -m emg2qwerty.train \\\n",
    "  user=\"kao_user\" \\\n",
    "  trainer.accelerator=gpu trainer.devices=1\n",
    "  # --multirun"
   ]
  },
  {
   "cell_type": "code",
   "execution_count": null,
   "metadata": {},
   "outputs": [],
   "source": [
    "# Single-user training\n",
    "!python -m emg2qwerty.train \\\n",
    "  user=\"kao_user\" \\\n",
    "  trainer.accelerator=gpu trainer.devices=1\n",
    "  # --multirun"
   ]
  },
  {
   "cell_type": "code",
   "execution_count": null,
   "metadata": {},
   "outputs": [],
   "source": [
    "# Single-user training\n",
    "!python -m emg2qwerty.train \\\n",
    "  user=\"kao_user\" \\\n",
    "  trainer.accelerator=gpu trainer.devices=1\n",
    "  # --multirun"
   ]
  },
  {
   "cell_type": "markdown",
   "metadata": {
    "id": "MGANotiwhngl"
   },
   "source": [
    "#### Testing:\n",
    "\n",
    "- Replace `Your_Path_to_Checkpoint` with your checkpoint path."
   ]
  },
  {
   "cell_type": "code",
   "execution_count": null,
   "metadata": {},
   "outputs": [],
   "source": [
    "# Single-user testing\n",
    "!python -m emg2qwerty.train \\\n",
    "  user=\"kao_user\" \\\n",
    "  checkpoint='\"epoch=39-step=4800.ckpt\"' \\\n",
    "  trainer.accelerator=gpu \\\n",
    "  # --multirun"
   ]
  },
  {
   "cell_type": "code",
   "execution_count": null,
   "metadata": {},
   "outputs": [],
   "source": [
    "ls"
   ]
  },
  {
   "cell_type": "code",
   "execution_count": null,
   "metadata": {
    "id": "p68aDt-8pmGj"
   },
   "outputs": [],
   "source": [
    "# Single-user testing\n",
    "!python -m emg2qwerty.train \\\n",
    "  user=\"kao_user\" \\\n",
    "  checkpoint=\"epoch=39-step=4800.ckpt\" \\\n",
    "  train=False trainer.accelerator=gpu \\\n",
    "  decoder=ctc_greedy \\\n",
    "  hydra.launcher.mem_gb=64 \\\n",
    "  # --multirun"
   ]
  },
  {
   "cell_type": "code",
   "execution_count": null,
   "metadata": {},
   "outputs": [],
   "source": [
    "import os\n",
    "os.environ['HYDRA_FULL_ERROR'] = '1'"
   ]
  },
  {
   "cell_type": "code",
   "execution_count": null,
   "metadata": {},
   "outputs": [],
   "source": [
    "%load_ext tensorboard\n",
    "\n",
    "%tensorboard --logdir=\"/home/charley/SOTA-4/logs/2025-03-05/18-55-06\""
   ]
  },
  {
   "cell_type": "code",
   "execution_count": null,
   "metadata": {},
   "outputs": [],
   "source": [
    "python -m emg2qwerty.train \\\n",
    "  user=\"kao_user\" \\\n",
    "  checkpoint='\"epoch=46-step=155382.ckpt\"' \\\n",
    "  trainer.accelerator=gpu"
   ]
  }
 ],
 "metadata": {
  "accelerator": "GPU",
  "colab": {
   "gpuType": "T4",
   "provenance": []
  },
  "kernelspec": {
   "display_name": "venv",
   "language": "python",
   "name": "python3"
  },
  "language_info": {
   "codemirror_mode": {
    "name": "ipython",
    "version": 3
   },
   "file_extension": ".py",
   "mimetype": "text/x-python",
   "name": "python",
   "nbconvert_exporter": "python",
   "pygments_lexer": "ipython3",
   "version": "3.10.16"
  }
 },
 "nbformat": 4,
 "nbformat_minor": 0
}
