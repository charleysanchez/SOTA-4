{
 "cells": [
  {
   "cell_type": "code",
   "execution_count": 1,
   "metadata": {},
   "outputs": [],
   "source": [
    "from data_utils import *\n",
    "import pandas as pd"
   ]
  },
  {
   "cell_type": "code",
   "execution_count": 2,
   "metadata": {},
   "outputs": [],
   "source": [
    "data = get_CUSTOMDATA()"
   ]
  },
  {
   "cell_type": "code",
   "execution_count": 11,
   "metadata": {},
   "outputs": [
    {
     "name": "stdout",
     "output_type": "stream",
     "text": [
      "(652845, 8)\n"
     ]
    }
   ],
   "source": [
    "X_train = data['X_train']\n",
    "X_val = data['X_val']\n",
    "X_test = data['X_test']\n",
    "\n",
    "print(X_train.shape)"
   ]
  },
  {
   "cell_type": "code",
   "execution_count": 12,
   "metadata": {},
   "outputs": [
    {
     "name": "stdout",
     "output_type": "stream",
     "text": [
      "[-1.95450681 12.05935099  5.18643323 -0.93489879  1.11204038 -1.93099587\n",
      "  0.07171381 -1.89690202]\n"
     ]
    }
   ],
   "source": [
    "print(X_train[0])"
   ]
  },
  {
   "cell_type": "code",
   "execution_count": 31,
   "metadata": {},
   "outputs": [
    {
     "name": "stdout",
     "output_type": "stream",
     "text": [
      "[3 5 5 ... 2 5 5]\n"
     ]
    }
   ],
   "source": [
    "y_train = data['y_train']\n",
    "y_train = np.argmax(y_train, axis=1)\n",
    "\n",
    "y_val = data['y_val']\n",
    "y_val = np.argmax(y_val, axis=1)\n",
    "\n",
    "y_test = data['y_test']\n",
    "y_test = np.argmax(y_test, axis=1)\n",
    "\n",
    "print(y_train)"
   ]
  },
  {
   "cell_type": "code",
   "execution_count": 32,
   "metadata": {},
   "outputs": [
    {
     "name": "stdout",
     "output_type": "stream",
     "text": [
      "(652845,)\n"
     ]
    }
   ],
   "source": [
    "print(y_train.shape)"
   ]
  },
  {
   "cell_type": "code",
   "execution_count": 36,
   "metadata": {},
   "outputs": [
    {
     "name": "stdout",
     "output_type": "stream",
     "text": [
      "      emg_0      emg_1      emg_2      emg_3     emg_4      emg_5     emg_6  \\\n",
      "0 -1.954507  12.059351   5.186433  -0.934899   1.11204  -1.930996  0.071714   \n",
      "1  0.045493  14.059351   0.186433  19.065101   4.11204  -1.930996 -0.928286   \n",
      "2  0.045493  -0.940649   0.186433   1.065101  39.11204   5.069004  2.071714   \n",
      "3 -1.954507  -4.940649  34.186433   7.065101   2.11204 -17.930996  0.071714   \n",
      "4 -2.954507   5.059351  -1.813567   0.065101   1.11204   3.069004  0.071714   \n",
      "\n",
      "      emg_7  target  \n",
      "0 -1.896902       3  \n",
      "1  1.103098       5  \n",
      "2  4.103098       5  \n",
      "3  1.103098       5  \n",
      "4  2.103098       5  \n",
      "      emg_0      emg_1      emg_2     emg_3    emg_4     emg_5      emg_6  \\\n",
      "0 -7.954507   4.059351  12.186433 -8.934899 -2.88796 -0.930996  -0.928286   \n",
      "1  1.045493 -38.940649 -19.813567  6.065101  3.11204  2.069004   2.071714   \n",
      "2  1.045493   0.059351   8.186433 -0.934899  0.11204  1.069004  -1.928286   \n",
      "3  3.045493  22.059351   4.186433  4.065101  4.11204 -0.930996 -13.928286   \n",
      "4 -0.954507  20.059351  21.186433  4.065101  0.11204 -1.930996  -0.928286   \n",
      "\n",
      "       emg_7  target  \n",
      "0   0.103098       5  \n",
      "1   0.103098       5  \n",
      "2  -0.896902       5  \n",
      "3 -12.896902       1  \n",
      "4  -2.896902       5  \n",
      "      emg_0      emg_1      emg_2      emg_3     emg_4     emg_5     emg_6  \\\n",
      "0  3.045493  10.059351  16.186433  -0.934899   5.11204  5.069004  5.071714   \n",
      "1  2.045493   3.059351  14.186433  24.065101   4.11204  3.069004  9.071714   \n",
      "2 -3.954507   3.059351   7.186433  45.065101  22.11204  9.069004  1.071714   \n",
      "3 -3.954507  -7.940649 -28.813567 -16.934899  -9.88796  1.069004  1.071714   \n",
      "4  0.045493   1.059351  -2.813567  -2.934899   1.11204  3.069004  9.071714   \n",
      "\n",
      "      emg_7  target  \n",
      "0  2.103098       0  \n",
      "1  4.103098       5  \n",
      "2 -1.896902       5  \n",
      "3 -1.896902       5  \n",
      "4  3.103098       5  \n"
     ]
    }
   ],
   "source": [
    "train_X_df = pd.DataFrame(X_train, columns=[f'emg_{i}' for i in range(X_train.shape[1])])\n",
    "train_y_df = pd.DataFrame(y_train, columns=['target'])\n",
    "\n",
    "train_df = pd.concat([train_X_df, train_y_df], axis=1)\n",
    "\n",
    "val_X_df = pd.DataFrame(X_val, columns=[f'emg_{i}' for i in range(X_train.shape[1])])\n",
    "val_y_df = pd.DataFrame(y_val, columns=['target'])\n",
    "\n",
    "val_df = pd.concat([val_X_df, val_y_df], axis=1)\n",
    "\n",
    "test_X_df = pd.DataFrame(X_test, columns=[f'emg_{i}' for i in range(X_train.shape[1])])\n",
    "test_y_df = pd.DataFrame(y_test, columns=['target'])\n",
    "\n",
    "test_df = pd.concat([test_X_df, test_y_df], axis=1)\n",
    "\n",
    "print(train_df.head())\n",
    "print(val_df.head())\n",
    "print(test_df.head())\n"
   ]
  },
  {
   "cell_type": "code",
   "execution_count": 37,
   "metadata": {},
   "outputs": [],
   "source": [
    "train_df.to_hdf('../data/custom_train.hdf5', key='df', mode='w')\n",
    "val_df.to_hdf('../data/custom_val.hdf5', key='df', mode='w')\n",
    "test_df.to_hdf('../data/custom_test.hdf5', key='df', mode='w')"
   ]
  },
  {
   "cell_type": "code",
   "execution_count": 38,
   "metadata": {},
   "outputs": [
    {
     "name": "stdout",
     "output_type": "stream",
     "text": [
      "Loaded train shape: (652845, 9)\n",
      "Loaded val shape: (72534, 9)\n",
      "Loaded test shape: (363250, 9)\n"
     ]
    }
   ],
   "source": [
    "# Load them back and check\n",
    "train_check = pd.read_hdf('../data/custom_train.hdf5', key='df')\n",
    "val_check = pd.read_hdf('../data/custom_val.hdf5', key='df')\n",
    "test_check = pd.read_hdf('../data/custom_test.hdf5', key='df')\n",
    "\n",
    "print(f\"Loaded train shape: {train_check.shape}\")\n",
    "print(f\"Loaded val shape: {val_check.shape}\")\n",
    "print(f\"Loaded test shape: {test_check.shape}\")"
   ]
  },
  {
   "cell_type": "code",
   "execution_count": null,
   "metadata": {},
   "outputs": [],
   "source": []
  }
 ],
 "metadata": {
  "kernelspec": {
   "display_name": "emg2qwerty",
   "language": "python",
   "name": "python3"
  },
  "language_info": {
   "codemirror_mode": {
    "name": "ipython",
    "version": 3
   },
   "file_extension": ".py",
   "mimetype": "text/x-python",
   "name": "python",
   "nbconvert_exporter": "python",
   "pygments_lexer": "ipython3",
   "version": "3.10.13"
  }
 },
 "nbformat": 4,
 "nbformat_minor": 2
}
