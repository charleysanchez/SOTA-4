{
 "cells": [
  {
   "cell_type": "code",
   "execution_count": 1,
   "metadata": {},
   "outputs": [],
   "source": [
    "from data_utils import *\n",
    "import pandas as pd"
   ]
  },
  {
   "cell_type": "code",
   "execution_count": 2,
   "metadata": {},
   "outputs": [],
   "source": [
    "data = get_CUSTOMDATA()"
   ]
  },
  {
   "cell_type": "code",
   "execution_count": 11,
   "metadata": {},
   "outputs": [
    {
     "name": "stdout",
     "output_type": "stream",
     "text": [
      "(652845, 8)\n"
     ]
    }
   ],
   "source": [
    "X_train = data['X_train']\n",
    "X_val = data['X_val']\n",
    "X_test = data['X_test']\n",
    "\n",
    "print(X_train.shape)"
   ]
  },
  {
   "cell_type": "code",
   "execution_count": 12,
   "metadata": {},
   "outputs": [
    {
     "name": "stdout",
     "output_type": "stream",
     "text": [
      "[-1.95450681 12.05935099  5.18643323 -0.93489879  1.11204038 -1.93099587\n",
      "  0.07171381 -1.89690202]\n"
     ]
    }
   ],
   "source": [
    "print(X_train[0])"
   ]
  },
  {
   "cell_type": "code",
   "execution_count": 13,
   "metadata": {},
   "outputs": [
    {
     "name": "stdout",
     "output_type": "stream",
     "text": [
      "[0. 0. 0. 1. 0. 0.]\n"
     ]
    }
   ],
   "source": [
    "y_train = data['y_train']\n",
    "y_val = data['y_val']\n",
    "\n",
    "y_test = data['y_test']\n",
    "\n",
    "print(y_train[0])"
   ]
  },
  {
   "cell_type": "code",
   "execution_count": 6,
   "metadata": {},
   "outputs": [
    {
     "name": "stdout",
     "output_type": "stream",
     "text": [
      "(652845, 6)\n"
     ]
    }
   ],
   "source": [
    "print(y_train.shape)"
   ]
  },
  {
   "cell_type": "code",
   "execution_count": 16,
   "metadata": {},
   "outputs": [
    {
     "name": "stdout",
     "output_type": "stream",
     "text": [
      "      emg_0      emg_1      emg_2      emg_3     emg_4      emg_5     emg_6  \\\n",
      "0 -1.954507  12.059351   5.186433  -0.934899   1.11204  -1.930996  0.071714   \n",
      "1  0.045493  14.059351   0.186433  19.065101   4.11204  -1.930996 -0.928286   \n",
      "2  0.045493  -0.940649   0.186433   1.065101  39.11204   5.069004  2.071714   \n",
      "3 -1.954507  -4.940649  34.186433   7.065101   2.11204 -17.930996  0.071714   \n",
      "4 -2.954507   5.059351  -1.813567   0.065101   1.11204   3.069004  0.071714   \n",
      "\n",
      "      emg_7  target0  target1  target2  target3  target4  target5  \n",
      "0 -1.896902      0.0      0.0      0.0      1.0      0.0      0.0  \n",
      "1  1.103098      0.0      0.0      0.0      0.0      0.0      1.0  \n",
      "2  4.103098      0.0      0.0      0.0      0.0      0.0      1.0  \n",
      "3  1.103098      0.0      0.0      0.0      0.0      0.0      1.0  \n",
      "4  2.103098      0.0      0.0      0.0      0.0      0.0      1.0  \n",
      "      emg_0      emg_1      emg_2      emg_3     emg_4      emg_5     emg_6  \\\n",
      "0 -1.954507  12.059351   5.186433  -0.934899   1.11204  -1.930996  0.071714   \n",
      "1  0.045493  14.059351   0.186433  19.065101   4.11204  -1.930996 -0.928286   \n",
      "2  0.045493  -0.940649   0.186433   1.065101  39.11204   5.069004  2.071714   \n",
      "3 -1.954507  -4.940649  34.186433   7.065101   2.11204 -17.930996  0.071714   \n",
      "4 -2.954507   5.059351  -1.813567   0.065101   1.11204   3.069004  0.071714   \n",
      "\n",
      "      emg_7  target0  target1  target2  target3  target4  target5  \n",
      "0 -1.896902      0.0      0.0      0.0      1.0      0.0      0.0  \n",
      "1  1.103098      0.0      0.0      0.0      0.0      0.0      1.0  \n",
      "2  4.103098      0.0      0.0      0.0      0.0      0.0      1.0  \n",
      "3  1.103098      0.0      0.0      0.0      0.0      0.0      1.0  \n",
      "4  2.103098      0.0      0.0      0.0      0.0      0.0      1.0  \n",
      "      emg_0      emg_1      emg_2      emg_3     emg_4      emg_5     emg_6  \\\n",
      "0 -1.954507  12.059351   5.186433  -0.934899   1.11204  -1.930996  0.071714   \n",
      "1  0.045493  14.059351   0.186433  19.065101   4.11204  -1.930996 -0.928286   \n",
      "2  0.045493  -0.940649   0.186433   1.065101  39.11204   5.069004  2.071714   \n",
      "3 -1.954507  -4.940649  34.186433   7.065101   2.11204 -17.930996  0.071714   \n",
      "4 -2.954507   5.059351  -1.813567   0.065101   1.11204   3.069004  0.071714   \n",
      "\n",
      "      emg_7  target0  target1  target2  target3  target4  target5  \n",
      "0 -1.896902      0.0      0.0      0.0      1.0      0.0      0.0  \n",
      "1  1.103098      0.0      0.0      0.0      0.0      0.0      1.0  \n",
      "2  4.103098      0.0      0.0      0.0      0.0      0.0      1.0  \n",
      "3  1.103098      0.0      0.0      0.0      0.0      0.0      1.0  \n",
      "4  2.103098      0.0      0.0      0.0      0.0      0.0      1.0  \n"
     ]
    }
   ],
   "source": [
    "train_X_df = pd.DataFrame(X_train, columns=[f'emg_{i}' for i in range(X_train.shape[1])])\n",
    "train_y_df = pd.DataFrame(y_train, columns=[f'target{i}' for i in range(y_train.shape[1])])\n",
    "\n",
    "train_df = pd.concat([train_X_df, train_y_df], axis=1)\n",
    "\n",
    "val_X_df = pd.DataFrame(X_val, columns=[f'emg_{i}' for i in range(X_train.shape[1])])\n",
    "val_y_df = pd.DataFrame(y_val, columns=[f'target{i}' for i in range(y_train.shape[1])])\n",
    "\n",
    "val_df = pd.concat([train_X_df, train_y_df], axis=1)\n",
    "\n",
    "test_X_df = pd.DataFrame(X_test, columns=[f'emg_{i}' for i in range(X_train.shape[1])])\n",
    "test_y_df = pd.DataFrame(y_test, columns=[f'target{i}' for i in range(y_train.shape[1])])\n",
    "\n",
    "test_df = pd.concat([train_X_df, train_y_df], axis=1)\n",
    "print(train_df.head())\n",
    "print(val_df.head())\n",
    "print(test_df.head())\n"
   ]
  },
  {
   "cell_type": "code",
   "execution_count": 21,
   "metadata": {},
   "outputs": [],
   "source": [
    "train_df.to_hdf('../data/custom_train.hdf5', key='df', mode='w')\n",
    "val_df.to_hdf('../data/custom_val.hdf5', key='df', mode='w')\n",
    "test_df.to_hdf('../data/custom_test.hdf5', key='df', mode='w')"
   ]
  },
  {
   "cell_type": "code",
   "execution_count": null,
   "metadata": {},
   "outputs": [],
   "source": []
  }
 ],
 "metadata": {
  "kernelspec": {
   "display_name": "emg2qwerty",
   "language": "python",
   "name": "python3"
  },
  "language_info": {
   "codemirror_mode": {
    "name": "ipython",
    "version": 3
   },
   "file_extension": ".py",
   "mimetype": "text/x-python",
   "name": "python",
   "nbconvert_exporter": "python",
   "pygments_lexer": "ipython3",
   "version": "3.10.13"
  }
 },
 "nbformat": 4,
 "nbformat_minor": 2
}
